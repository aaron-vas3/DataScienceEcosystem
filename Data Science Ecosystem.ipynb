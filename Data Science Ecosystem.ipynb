{
 "cells": [
  {
   "cell_type": "markdown",
   "id": "be7dbf7d",
   "metadata": {},
   "source": [
    "<H1> Data Science Tools and Ecosystem"
   ]
  },
  {
   "cell_type": "markdown",
   "id": "158719e5",
   "metadata": {},
   "source": [
    "<H2> Author"
   ]
  },
  {
   "cell_type": "markdown",
   "id": "7b3eedab",
   "metadata": {},
   "source": [
    "Aaron Vasquez"
   ]
  },
  {
   "cell_type": "markdown",
   "id": "cc775a14",
   "metadata": {},
   "source": [
    "In this notebook, Data Science Tools and Ecosystem are summarized."
   ]
  },
  {
   "cell_type": "markdown",
   "id": "8fc00de1",
   "metadata": {},
   "source": [
    "**Objectives:**\n",
    "+ List popular languages for Data Science \n",
    "+ Learn how to use visualization libraries \n",
    "+ Familiarize with different programs and applications for Data Science\n",
    "+ Learn basics of Python and R"
   ]
  },
  {
   "cell_type": "markdown",
   "id": "de559dcd",
   "metadata": {},
   "source": [
    "Some of the most popular langauges that Data Scientists use are: \n",
    "    \n",
    "    1. Python\n",
    "    2. R\n",
    "    3. Java \n",
    "    4. C++\n",
    "    5. SQL"
   ]
  },
  {
   "cell_type": "markdown",
   "id": "33bab26e",
   "metadata": {},
   "source": [
    "Some of the commonly used libraries used by Data Scientists include:\n",
    "    \n",
    "    * Pandas\n",
    "    * NumPy\n",
    "    * MatPlotlib\n",
    "    * ggplot2\n",
    "    * PyTorch"
   ]
  },
  {
   "cell_type": "markdown",
   "id": "a210913c",
   "metadata": {},
   "source": [
    "| Data Science Tools |\n",
    "| :- |\n",
    "| RStudio |\n",
    "| Apache Spark |\n",
    "| TensorFlow |"
   ]
  },
  {
   "cell_type": "markdown",
   "id": "4841a67f",
   "metadata": {},
   "source": [
    "<H3> Below are a few examples of evaluating arithmetic expression in Python"
   ]
  },
  {
   "cell_type": "code",
   "execution_count": 3,
   "id": "0b11962b",
   "metadata": {},
   "outputs": [
    {
     "data": {
      "text/plain": [
       "17"
      ]
     },
     "execution_count": 3,
     "metadata": {},
     "output_type": "execute_result"
    }
   ],
   "source": [
    "# This is a simple arthimetic expression to multiply then add integers\n",
    "(3*4)+5"
   ]
  },
  {
   "cell_type": "code",
   "execution_count": 4,
   "id": "f55ef824",
   "metadata": {},
   "outputs": [
    {
     "data": {
      "text/plain": [
       "3.3333333333333335"
      ]
     },
     "execution_count": 4,
     "metadata": {},
     "output_type": "execute_result"
    }
   ],
   "source": [
    "# This will convert 200 minutes to hours by dividing by 60\n",
    "200/60"
   ]
  },
  {
   "cell_type": "code",
   "execution_count": null,
   "id": "f4383c03",
   "metadata": {},
   "outputs": [],
   "source": []
  }
 ],
 "metadata": {
  "kernelspec": {
   "display_name": "Python 3 (ipykernel)",
   "language": "python",
   "name": "python3"
  },
  "language_info": {
   "codemirror_mode": {
    "name": "ipython",
    "version": 3
   },
   "file_extension": ".py",
   "mimetype": "text/x-python",
   "name": "python",
   "nbconvert_exporter": "python",
   "pygments_lexer": "ipython3",
   "version": "3.9.13"
  }
 },
 "nbformat": 4,
 "nbformat_minor": 5
}
